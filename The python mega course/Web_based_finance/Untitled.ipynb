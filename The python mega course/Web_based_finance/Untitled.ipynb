{
 "cells": [
  {
   "cell_type": "code",
   "execution_count": 1,
   "metadata": {},
   "outputs": [
    {
     "name": "stdout",
     "output_type": "stream",
     "text": [
      " * Serving Flask app \"__main__\" (lazy loading)\n",
      " * Environment: production\n",
      "   WARNING: This is a development server. Do not use it in a production deployment.\n",
      "   Use a production WSGI server instead.\n",
      " * Debug mode: on\n"
     ]
    },
    {
     "name": "stderr",
     "output_type": "stream",
     "text": [
      " * Running on http://127.0.0.1:5000/ (Press CTRL+C to quit)\n",
      " * Restarting with fsevents reloader\n"
     ]
    },
    {
     "ename": "SystemExit",
     "evalue": "1",
     "output_type": "error",
     "traceback": [
      "An exception has occurred, use %tb to see the full traceback.\n",
      "\u001b[0;31mSystemExit\u001b[0m\u001b[0;31m:\u001b[0m 1\n"
     ]
    },
    {
     "name": "stderr",
     "output_type": "stream",
     "text": [
      "/Users/prajwalkamagethi/opt/anaconda3/lib/python3.7/site-packages/IPython/core/interactiveshell.py:3339: UserWarning: To exit: use 'exit', 'quit', or Ctrl-D.\n",
      "  warn(\"To exit: use 'exit', 'quit', or Ctrl-D.\", stacklevel=1)\n"
     ]
    }
   ],
   "source": [
    "from flask import Flask, render_template\n",
    "\n",
    "app=Flask(__name__)\n",
    "\n",
    "@app.route('/plot/')\n",
    "def plot():\n",
    "    from pandas_datareader import data\n",
    "    import datetime\n",
    "    import fix_yahoo_finance as yf\n",
    "    yf.pdr_override()\n",
    "    from bokeh.plotting import figure, show, output_file\n",
    "    from bokeh.embed import components\n",
    "    from bokeh.resources import CDN\n",
    "\n",
    "    start=datetime.datetime(2015,11,1)\n",
    "    end=datetime.datetime(2016,3,10)\n",
    "\n",
    "    df=data.get_data_yahoo(tickers=\"GOOG\", start=start, end=end)\n",
    "\n",
    "\n",
    "    def inc_dec(c, o):\n",
    "        if c > o:\n",
    "            value=\"Increase\"\n",
    "        elif c < o:\n",
    "            value=\"Decrease\"\n",
    "        else:\n",
    "            value=\"Equal\"\n",
    "        return value\n",
    "\n",
    "    df[\"Status\"]=[inc_dec(c,o) for c, o in zip(df.Close,df.Open)]\n",
    "    df[\"Middle\"]=(df.Open+df.Close)/2\n",
    "    df[\"Height\"]=abs(df.Close-df.Open)\n",
    "\n",
    "    p=figure(x_axis_type='datetime', width=1000, height=300)\n",
    "    p.title.text=\"Candlestick Chart\"\n",
    "    p.grid.grid_line_alpha=0.3\n",
    "\n",
    "    hours_12=12*60*60*1000\n",
    "\n",
    "    p.segment(df.index, df.High, df.index, df.Low, color=\"Black\")\n",
    "\n",
    "    p.rect(df.index[df.Status==\"Increase\"],df.Middle[df.Status==\"Increase\"],\n",
    "           hours_12, df.Height[df.Status==\"Increase\"],fill_color=\"#CCFFFF\",line_color=\"black\")\n",
    "\n",
    "    p.rect(df.index[df.Status==\"Decrease\"],df.Middle[df.Status==\"Decrease\"],\n",
    "           hours_12, df.Height[df.Status==\"Decrease\"],fill_color=\"#FF3333\",line_color=\"black\")\n",
    "\n",
    "    script1, div1 = components(p)\n",
    "    cdn_js=CDN.js_files[0]\n",
    "    cdn_css=CDN.css_files[0]\n",
    "    return render_template(\"plot.html\",\n",
    "    script1=script1,\n",
    "    div1=div1,\n",
    "    cdn_css=cdn_css,\n",
    "    cdn_js=cdn_js )\n",
    "\n",
    "\n",
    "\n",
    "@app.route('/')\n",
    "def home():\n",
    "    return render_template(\"home.html\")\n",
    "\n",
    "@app.route('/about/')\n",
    "def about():\n",
    "    return render_template(\"about.html\")\n",
    "\n",
    "if __name__==\"__main__\":\n",
    "    app.run(debug=True)\n"
   ]
  },
  {
   "cell_type": "code",
   "execution_count": null,
   "metadata": {},
   "outputs": [],
   "source": []
  }
 ],
 "metadata": {
  "kernelspec": {
   "display_name": "Python 3",
   "language": "python",
   "name": "python3"
  },
  "language_info": {
   "codemirror_mode": {
    "name": "ipython",
    "version": 3
   },
   "file_extension": ".py",
   "mimetype": "text/x-python",
   "name": "python",
   "nbconvert_exporter": "python",
   "pygments_lexer": "ipython3",
   "version": "3.7.6"
  }
 },
 "nbformat": 4,
 "nbformat_minor": 4
}
